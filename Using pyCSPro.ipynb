{
 "cells": [
  {
   "cell_type": "markdown",
   "metadata": {},
   "source": [
    "# Using pyCSPro"
   ]
  },
  {
   "cell_type": "markdown",
   "metadata": {},
   "source": [
    "pyCSPro is a simple python library made up of two main functionalities (classes). \n",
    "The first one is the DictionaryParser class which is responsible for parsing a CSPro dictionary and also providing anciliary functions such as providing lables of record columns (could be used to replace the default column names which are the name attributes of items and therefore could be cryptic) and labels of values (this could be used to replace values such as 1, 2 with their respective lables like 'Male', 'Female' etc."
   ]
  },
  {
   "cell_type": "markdown",
   "metadata": {},
   "source": [
    "## Install the package"
   ]
  },
  {
   "cell_type": "code",
   "execution_count": null,
   "metadata": {},
   "outputs": [],
   "source": [
    "!pip install --user pycspro\n",
    "!pip install --user pandas"
   ]
  },
  {
   "cell_type": "markdown",
   "metadata": {},
   "source": [
    "## Parse a dictionary"
   ]
  },
  {
   "cell_type": "markdown",
   "metadata": {},
   "source": [
    "Here, we are parsing the sample dictionary that is provided with CSPro and can also be downloaded from this repo\n",
    "\n",
    "https://github.com/CSProDevelopment/examples"
   ]
  },
  {
   "cell_type": "code",
   "execution_count": null,
   "metadata": {
    "ExecuteTime": {
     "end_time": "2019-10-13T06:13:01.701851Z",
     "start_time": "2019-10-13T06:13:01.661207Z"
    }
   },
   "outputs": [],
   "source": [
    "from pycspro import DictionaryParser\n",
    "import json\n",
    "\n",
    "raw_dictionary = open('dictionary/Census Dictionary.dcf', 'r').read()\n",
    "dictionary_parser = DictionaryParser(raw_dictionary)\n",
    "parsed_dictionary = dictionary_parser.parse()\n",
    "print(json.dumps(parsed_dictionary, indent=4))"
   ]
  },
  {
   "cell_type": "markdown",
   "metadata": {},
   "source": [
    "## Use parsed dictionary to parse cases"
   ]
  },
  {
   "cell_type": "markdown",
   "metadata": {},
   "source": [
    "We pull out cases from the CSPro example data file. Luckily, the given example is of a single record type and therefore newlines (\\n) are only found at the end of a single case entry and therefore we can use that to cut up the content of the file into individual cases. If it were was a situation where there were multiple records then those would also have been separated by the newline character and we wouldn't have been able to use it to cut up the file into individual records.\n",
    "\n",
    "The case parser accepts a list of cases. We can choose to pass a single case in a list or as many as 100k.\n",
    "The best approach would be to pass in about 50k and then convert the returned dictionary into a Pandas Data Frame, then we pass in the next batch and then convert that into another data frame and then append it to the previous data frame."
   ]
  },
  {
   "cell_type": "code",
   "execution_count": null,
   "metadata": {
    "ExecuteTime": {
     "end_time": "2019-10-13T06:13:07.707773Z",
     "start_time": "2019-10-13T06:13:07.457328Z"
    }
   },
   "outputs": [],
   "source": [
    "import pandas as pd\n",
    "from pycspro import CaseParser\n",
    "\n",
    "raw_cases = open('data/Popstan Census.dat', 'r').read()\n",
    "cases = raw_cases.split('\\n')\n",
    "case_parser = CaseParser(parsed_dictionary)\n",
    "parsed_cases = case_parser.parse(cases[:10])\n",
    "dfs = {}\n",
    "for table_name, table in parsed_cases.items():\n",
    "    dfs[table_name] = pd.DataFrame.from_dict(table)\n",
    "    print(table_name)\n",
    "    display(dfs[table_name])"
   ]
  },
  {
   "cell_type": "markdown",
   "metadata": {},
   "source": [
    "## Get selected columns only"
   ]
  },
  {
   "cell_type": "markdown",
   "metadata": {},
   "source": [
    "Sometimes records can have upwards of a hundred columns and you probably will not be interested in all of them. In such a scenario, you can actually pass a cutting mask to the CaseParser class while instantiating it.\n",
    "\n",
    "It will only cut and return the listed columns. What you pass in as a cutting_mask param is a dictionary with keys being the record names (the level name in case of the main table) and values being lists of the column names, which are the Item names."
   ]
  },
  {
   "cell_type": "code",
   "execution_count": null,
   "metadata": {
    "ExecuteTime": {
     "end_time": "2019-10-13T06:13:13.162213Z",
     "start_time": "2019-10-13T06:13:13.139050Z"
    }
   },
   "outputs": [],
   "source": [
    "import pandas as pd\n",
    "from pycspro import CaseParser\n",
    "\n",
    "raw_cases = open('data/Popstan Census.dat', 'r').read()\n",
    "cases = raw_cases.split('\\n')\n",
    "cutting_mask = {\n",
    "    'QUEST': ['PROVINCE', 'DISTRICT'],\n",
    "    'PERSON': ['P03_SEX', 'P04_AGE', 'P11_LITERACY', 'P15_OCC'],\n",
    "    'HOUSING': ['H01_TYPE', 'H05_ROOMS', 'H07_RENT', 'H08_TOILET', 'H13_PERSONS']\n",
    "}\n",
    "case_parser = CaseParser(parsed_dictionary, cutting_mask)\n",
    "parsed_cases = case_parser.parse(cases[:10])\n",
    "dfs = {}\n",
    "for table_name, table in parsed_cases.items():\n",
    "    dfs[table_name] = pd.DataFrame.from_dict(table)\n",
    "    print(table_name)\n",
    "    display(dfs[table_name])"
   ]
  },
  {
   "cell_type": "markdown",
   "metadata": {},
   "source": [
    "## Changing column labels"
   ]
  },
  {
   "cell_type": "code",
   "execution_count": 6,
   "metadata": {
    "ExecuteTime": {
     "end_time": "2019-10-13T06:31:25.266288Z",
     "start_time": "2019-10-13T06:31:25.259574Z"
    }
   },
   "outputs": [
    {
     "data": {
      "text/plain": [
       "{'H01_TYPE': 'Type of housing',\n",
       " 'H02_WALL': 'Wall type',\n",
       " 'H03_ROOF': 'Roof type',\n",
       " 'H04_FLOOR': 'Floor type',\n",
       " 'H05_ROOMS': 'Number of rooms',\n",
       " 'H06_TENURE': 'Tenure',\n",
       " 'H07_RENT': 'Amount of rent paid',\n",
       " 'H08_TOILET': 'Type of toilet facilities',\n",
       " 'H09_BATH': 'Type of bathing facilities',\n",
       " 'H10_WATER': 'Source of water',\n",
       " 'H11_LIGHT': 'Fuel for lighting',\n",
       " 'H12_FUEL': 'Fuel for cooking',\n",
       " 'H13_PERSONS': 'Number of persons in the household'}"
      ]
     },
     "execution_count": 6,
     "metadata": {},
     "output_type": "execute_result"
    }
   ],
   "source": [
    "housing = dfs['HOUSING']\n",
    "housing.rename(columns = dictionary_parser.get_column_labels('HOUSING'))"
   ]
  },
  {
   "cell_type": "markdown",
   "metadata": {},
   "source": [
    "## Changing value lables"
   ]
  },
  {
   "cell_type": "code",
   "execution_count": 7,
   "metadata": {
    "ExecuteTime": {
     "end_time": "2019-10-13T06:34:07.206226Z",
     "start_time": "2019-10-13T06:34:07.196107Z"
    }
   },
   "outputs": [
    {
     "data": {
      "text/plain": [
       "{'LINE': {},\n",
       " 'P02_REL': {1: 'Head',\n",
       "  2: 'Spouse',\n",
       "  3: 'Child',\n",
       "  4: 'Parent',\n",
       "  5: 'Other relative',\n",
       "  6: 'Nonrelative',\n",
       "  9: 'Not Reported'},\n",
       " 'P03_SEX': {1: 'Male', 2: 'Female'},\n",
       " 'P04_AGE': {},\n",
       " 'P05_MS': {1: 'Married',\n",
       "  2: 'Divorced',\n",
       "  3: 'Separated',\n",
       "  4: 'Widowed',\n",
       "  5: 'Never Married'},\n",
       " 'P06_MOTHER': {1: 'Yes', 2: 'No', 3: \"Don't know\"},\n",
       " 'P07_BIRTH': {21: 'Endar', 22: 'Victoria', 0: 'Not Reported'},\n",
       " 'P08_RES95': {21: 'Endar',\n",
       "  22: 'Victoria',\n",
       "  0: 'Unknown',\n",
       "  \"'  '\": 'Not Applicable'},\n",
       " 'P09_ATTEND': {1: 'Yes', 2: 'No', 9: 'Not Reported', \"' '\": 'Not Applicable'},\n",
       " 'P10_HIGH_GR': {0: 'None', 99: 'Not Reported', \"'  '\": 'Not Applicable'},\n",
       " 'P11_LITERACY': {1: 'Literate',\n",
       "  2: 'Illiterate',\n",
       "  9: 'Not Reported',\n",
       "  \"' '\": 'Not Applicable'},\n",
       " 'P12_WORKING': {1: 'Yes',\n",
       "  2: 'No',\n",
       "  9: 'Not Reported',\n",
       "  \"' '\": 'Not Applicable'},\n",
       " 'P13_LOOKING': {1: 'Yes',\n",
       "  2: 'No',\n",
       "  9: 'Not Reported',\n",
       "  \"' '\": 'Not Applicable'},\n",
       " 'P14_WHY_NOT': {1: 'Had job',\n",
       "  2: 'Believed job not available',\n",
       "  3: 'Did not want job',\n",
       "  4: 'Doing own housework',\n",
       "  5: 'Going to school',\n",
       "  6: 'Other',\n",
       "  9: 'Not Reported',\n",
       "  \"' '\": 'Not Applicable'},\n",
       " 'P15_OCC': {1: 'Medical',\n",
       "  2: 'Accountants',\n",
       "  95: 'Other',\n",
       "  99: 'Not Reported',\n",
       "  \"'  '\": 'Not Applicable'},\n",
       " 'P15A_OCC': {0: 'Social or personal Services',\n",
       "  1: 'Professional, Technical',\n",
       "  2: 'Public Administration',\n",
       "  3: 'Clerical',\n",
       "  4: 'Wholesale or Retail Industry',\n",
       "  5: 'Service',\n",
       "  6: 'Farming, Forestry, Fishing, Hunting',\n",
       "  7: 'Tradesmen/Craftsmen',\n",
       "  8: 'Transportation',\n",
       "  9: 'Construction, other, not reported',\n",
       "  \"' '\": 'Not Applicable'},\n",
       " 'P16_IND': {10: 'Hunting',\n",
       "  11: 'Agriculture',\n",
       "  12: 'Forestry',\n",
       "  13: 'Fishing',\n",
       "  20: 'Mining Quarrying',\n",
       "  30: 'Food manufacture',\n",
       "  31: 'Beverage Tobacco',\n",
       "  32: 'Machinery Mfg',\n",
       "  33: 'Wood products',\n",
       "  34: 'Paper products',\n",
       "  35: 'Chemical Petrol',\n",
       "  36: 'Non-metal Manufa',\n",
       "  37: 'Metal Industries',\n",
       "  39: 'Jewelry Mfg',\n",
       "  40: 'Energy supplies',\n",
       "  41: 'Waterworks',\n",
       "  42: 'Natural Gas Supply',\n",
       "  43: 'Sanitation Services',\n",
       "  50: 'Construction',\n",
       "  60: 'Wholesale Trade',\n",
       "  61: 'Retail Trade',\n",
       "  62: 'Hotels, Restaurants',\n",
       "  70: 'Transport',\n",
       "  71: 'Storage',\n",
       "  72: 'Communication',\n",
       "  80: 'Financial Banks',\n",
       "  81: 'Insurance',\n",
       "  82: 'Real Estate',\n",
       "  83: 'Business Service',\n",
       "  90: 'Public Admin',\n",
       "  91: 'Education',\n",
       "  92: 'Medical Dental',\n",
       "  93: 'Social Community',\n",
       "  94: 'Recrtn Cultural',\n",
       "  95: 'Personal HHold',\n",
       "  98: 'Other',\n",
       "  99: 'Not Reported',\n",
       "  \"'  '\": 'Not Applicable'},\n",
       " 'P16A_IND': {0: 'Social or Personal Services',\n",
       "  1: 'Farming, Forestry, Fishing, Hunting',\n",
       "  2: 'Mining, Quarrying',\n",
       "  3: 'Manufacturing',\n",
       "  4: 'Utilities (Electricity, Gas, Water, Sanitation)',\n",
       "  5: 'Construction',\n",
       "  6: 'Commerce',\n",
       "  7: 'Transport, Storage, Communication',\n",
       "  8: 'Financing, Business Services',\n",
       "  9: 'Public Administration and not reported',\n",
       "  \"' '\": 'Not Applicable'},\n",
       " 'P17_WK_STATUS': {1: 'Employer',\n",
       "  2: 'Paid employee',\n",
       "  3: 'Self-employed',\n",
       "  4: 'Unpaid family worker',\n",
       "  5: 'Other',\n",
       "  9: 'Not Reported',\n",
       "  \"' '\": 'Not Applicable'},\n",
       " 'ECON_ACTIVE': {1: 'Yes',\n",
       "  2: 'No',\n",
       "  9: 'Not Reported',\n",
       "  \"' '\": 'Not Applicable'},\n",
       " 'P18_BORN': {0: 'None',\n",
       "  1: '1',\n",
       "  2: '2',\n",
       "  3: '3',\n",
       "  4: '4',\n",
       "  5: '5',\n",
       "  6: '6',\n",
       "  7: '7',\n",
       "  8: '8',\n",
       "  9: '9',\n",
       "  99: 'Not Reported',\n",
       "  \"'  '\": 'Not Applicable'},\n",
       " 'P19_LIVING': {0: 'None',\n",
       "  1: '1',\n",
       "  2: '2',\n",
       "  3: '3',\n",
       "  4: '4',\n",
       "  5: '5',\n",
       "  6: '6',\n",
       "  7: '7',\n",
       "  8: '8',\n",
       "  9: '9',\n",
       "  99: 'Not Reported',\n",
       "  \"'  '\": 'Not Applicable'},\n",
       " 'P20_BORN12': {9: 'Not Reported', \"' '\": 'Not Applicable'}}"
      ]
     },
     "execution_count": 7,
     "metadata": {},
     "output_type": "execute_result"
    }
   ],
   "source": [
    "person = dfs['PERSON']\n",
    "person.replace(dictionary_parser.get_value_labels('PERSON'))"
   ]
  }
 ],
 "metadata": {
  "kernelspec": {
   "display_name": "Python 3",
   "language": "python",
   "name": "python3"
  },
  "language_info": {
   "codemirror_mode": {
    "name": "ipython",
    "version": 3
   },
   "file_extension": ".py",
   "mimetype": "text/x-python",
   "name": "python",
   "nbconvert_exporter": "python",
   "pygments_lexer": "ipython3",
   "version": "3.6.8"
  },
  "varInspector": {
   "cols": {
    "lenName": 16,
    "lenType": 16,
    "lenVar": 40
   },
   "kernels_config": {
    "python": {
     "delete_cmd_postfix": "",
     "delete_cmd_prefix": "del ",
     "library": "var_list.py",
     "varRefreshCmd": "print(var_dic_list())"
    },
    "r": {
     "delete_cmd_postfix": ") ",
     "delete_cmd_prefix": "rm(",
     "library": "var_list.r",
     "varRefreshCmd": "cat(var_dic_list()) "
    }
   },
   "types_to_exclude": [
    "module",
    "function",
    "builtin_function_or_method",
    "instance",
    "_Feature"
   ],
   "window_display": false
  }
 },
 "nbformat": 4,
 "nbformat_minor": 2
}
